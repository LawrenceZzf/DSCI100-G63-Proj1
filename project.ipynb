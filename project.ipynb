{
 "cells": [
  {
   "cell_type": "markdown",
   "id": "69f692b1-7419-4fcf-9cb4-0fe8a8d5df3e",
   "metadata": {},
   "source": [
    "# Reliability prediction of pulsar detection information"
   ]
  },
  {
   "cell_type": "markdown",
   "id": "10d5d237-b59e-4c6d-ad82-d59e725b3875",
   "metadata": {},
   "source": [
    "# Introduction:"
   ]
  },
  {
   "cell_type": "markdown",
   "id": "3dd3b743-be5e-40b3-bb15-1055184a56a1",
   "metadata": {},
   "source": [
    "Pulsars are a unique and fascinating class of objects known as neutron stars. These highly dense remnants of massive stars emit regular radio signals that can be detected from Earth. Pulsars fascinate astronomers and astrophysicists because of their potential to unlock mysteries about the fundamental properties of space-time, interstellar matter, and matter itself. But detecting pulsars requires sophisticated observational and analytical techniques. Detecting pulsars is challenging due to the presence of radio frequency interference (RFI) and noise, which makes it difficult to distinguish legitimate signals from spurious detections. We will try to predict whether the data has reference value from the data easily available in the table. The main question to be answered with this project is: Can we accurately classify pulsar candidates as real or spurious based on their observed characteristics?\n",
    "\n",
    "### The eight continuous variables in the dataset are as follows:\n",
    "* Mean of the integrated profile.\n",
    "* Standard deviation of the integrated profile.\n",
    "* Excess kurtosis of the integrated profile.\n",
    "* Skewness of the integrated profile.\n",
    "* Mean of the DM-SNR curve.\n",
    "* Standard deviation of the DM-SNR curve.\n",
    "* Excess kurtosis of the DM-SNR curve.\n",
    "* Skewness of the DM-SNR curve.\n",
    "* Class (0 for negative/spurious examples, 1 for positive/real pulsar examples)\n"
   ]
  },
  {
   "cell_type": "markdown",
   "id": "12a41ea7-7343-4d84-a528-f26169e27dd0",
   "metadata": {},
   "source": [
    "library(tidyverse)\n",
    "library(repr)\n",
    "library(tidymodels)\n",
    "library(ggplot2)"
   ]
  },
  {
   "cell_type": "markdown",
   "id": "20f85846-cb09-42db-a0c4-daf7eca77225",
   "metadata": {},
   "source": [
    "# Question: How would you classify them?"
   ]
  },
  {
   "cell_type": "markdown",
   "id": "ce38a717-5b78-4f7e-bde4-e8ab11c9a7b7",
   "metadata": {},
   "source": [
    "As shown below, the given table provides some data for pulsar candidates observed recently. However, the data only contains the statistics obtained from the integrated pulse profile. How would you predict and classify them based on dataset? "
   ]
  },
  {
   "cell_type": "code",
   "execution_count": 105,
   "id": "a9f164a8-c413-47a2-bb1d-f76d00bbd0ed",
   "metadata": {},
   "outputs": [
    {
     "data": {
      "text/html": [
       "<table class=\"dataframe\">\n",
       "<caption>A data.frame: 4 × 4</caption>\n",
       "<thead>\n",
       "\t<tr><th scope=col>mean_pf</th><th scope=col>sd_pf</th><th scope=col>exkurtosis_pf</th><th scope=col>skewness_pf</th></tr>\n",
       "\t<tr><th scope=col>&lt;dbl&gt;</th><th scope=col>&lt;dbl&gt;</th><th scope=col>&lt;dbl&gt;</th><th scope=col>&lt;dbl&gt;</th></tr>\n",
       "</thead>\n",
       "<tbody>\n",
       "\t<tr><td>135.34231</td><td>43.51234</td><td>1.2134304</td><td>-0.4135212</td></tr>\n",
       "\t<tr><td>152.21314</td><td>52.97100</td><td>0.4312583</td><td>26.5231516</td></tr>\n",
       "\t<tr><td> 19.02311</td><td>28.90231</td><td>6.0213412</td><td>43.0453823</td></tr>\n",
       "\t<tr><td> 30.31236</td><td>30.23142</td><td>1.8232130</td><td>-0.1245083</td></tr>\n",
       "</tbody>\n",
       "</table>\n"
      ],
      "text/latex": [
       "A data.frame: 4 × 4\n",
       "\\begin{tabular}{llll}\n",
       " mean\\_pf & sd\\_pf & exkurtosis\\_pf & skewness\\_pf\\\\\n",
       " <dbl> & <dbl> & <dbl> & <dbl>\\\\\n",
       "\\hline\n",
       "\t 135.34231 & 43.51234 & 1.2134304 & -0.4135212\\\\\n",
       "\t 152.21314 & 52.97100 & 0.4312583 & 26.5231516\\\\\n",
       "\t  19.02311 & 28.90231 & 6.0213412 & 43.0453823\\\\\n",
       "\t  30.31236 & 30.23142 & 1.8232130 & -0.1245083\\\\\n",
       "\\end{tabular}\n"
      ],
      "text/markdown": [
       "\n",
       "A data.frame: 4 × 4\n",
       "\n",
       "| mean_pf &lt;dbl&gt; | sd_pf &lt;dbl&gt; | exkurtosis_pf &lt;dbl&gt; | skewness_pf &lt;dbl&gt; |\n",
       "|---|---|---|---|\n",
       "| 135.34231 | 43.51234 | 1.2134304 | -0.4135212 |\n",
       "| 152.21314 | 52.97100 | 0.4312583 | 26.5231516 |\n",
       "|  19.02311 | 28.90231 | 6.0213412 | 43.0453823 |\n",
       "|  30.31236 | 30.23142 | 1.8232130 | -0.1245083 |\n",
       "\n"
      ],
      "text/plain": [
       "  mean_pf   sd_pf    exkurtosis_pf skewness_pf\n",
       "1 135.34231 43.51234 1.2134304     -0.4135212 \n",
       "2 152.21314 52.97100 0.4312583     26.5231516 \n",
       "3  19.02311 28.90231 6.0213412     43.0453823 \n",
       "4  30.31236 30.23142 1.8232130     -0.1245083 "
      ]
     },
     "metadata": {},
     "output_type": "display_data"
    }
   ],
   "source": [
    "Problem_data<-data.frame(\n",
    "    mean_pf = c(135.34231, 152.21314, 19.02311, 30.31236),\n",
    "    sd_pf = c(43.51234,52.97100,28.90231,30.23142),\n",
    "    exkurtosis_pf = c(1.21343043,0.43125832,6.02134123,1.82321301),\n",
    "    skewness_pf = c(-0.4135212,26.5231516,43.0453823,-0.1245083)\n",
    ")\n",
    "Problem_data"
   ]
  },
  {
   "cell_type": "markdown",
   "id": "2efd5f02-d2f8-4739-959c-27a48e324638",
   "metadata": {},
   "source": [
    "# Preliminary exploratory data analysis:"
   ]
  },
  {
   "cell_type": "code",
   "execution_count": 92,
   "id": "97d9a2a5-41f4-4e92-9cfc-2d415abb371e",
   "metadata": {},
   "outputs": [
    {
     "name": "stderr",
     "output_type": "stream",
     "text": [
      "\u001b[1mRows: \u001b[22m\u001b[34m17898\u001b[39m \u001b[1mColumns: \u001b[22m\u001b[34m9\u001b[39m\n",
      "\u001b[36m──\u001b[39m \u001b[1mColumn specification\u001b[22m \u001b[36m────────────────────────────────────────────────────────\u001b[39m\n",
      "\u001b[1mDelimiter:\u001b[22m \",\"\n",
      "\u001b[32mdbl\u001b[39m (9): X1, X2, X3, X4, X5, X6, X7, X8, X9\n",
      "\n",
      "\u001b[36mℹ\u001b[39m Use `spec()` to retrieve the full column specification for this data.\n",
      "\u001b[36mℹ\u001b[39m Specify the column types or set `show_col_types = FALSE` to quiet this message.\n"
     ]
    },
    {
     "data": {
      "text/html": [
       "<table class=\"dataframe\">\n",
       "<caption>A tibble: 6 × 9</caption>\n",
       "<thead>\n",
       "\t<tr><th scope=col>mean_pf</th><th scope=col>sd_pf</th><th scope=col>exkurtosis_pf</th><th scope=col>skewness_pf</th><th scope=col>mean_DM</th><th scope=col>sd_DM</th><th scope=col>exkurtosis_DM</th><th scope=col>skewness_DM</th><th scope=col>class</th></tr>\n",
       "\t<tr><th scope=col>&lt;dbl&gt;</th><th scope=col>&lt;dbl&gt;</th><th scope=col>&lt;dbl&gt;</th><th scope=col>&lt;dbl&gt;</th><th scope=col>&lt;dbl&gt;</th><th scope=col>&lt;dbl&gt;</th><th scope=col>&lt;dbl&gt;</th><th scope=col>&lt;dbl&gt;</th><th scope=col>&lt;fct&gt;</th></tr>\n",
       "</thead>\n",
       "<tbody>\n",
       "\t<tr><td>140.56250</td><td>55.68378</td><td>-0.23457141</td><td>-0.6996484</td><td>3.199833</td><td>19.11043</td><td> 7.975532</td><td> 74.24222</td><td>0</td></tr>\n",
       "\t<tr><td>102.50781</td><td>58.88243</td><td> 0.46531815</td><td>-0.5150879</td><td>1.677258</td><td>14.86015</td><td>10.576487</td><td>127.39358</td><td>0</td></tr>\n",
       "\t<tr><td>103.01562</td><td>39.34165</td><td> 0.32332837</td><td> 1.0511644</td><td>3.121237</td><td>21.74467</td><td> 7.735822</td><td> 63.17191</td><td>0</td></tr>\n",
       "\t<tr><td>136.75000</td><td>57.17845</td><td>-0.06841464</td><td>-0.6362384</td><td>3.642977</td><td>20.95928</td><td> 6.896499</td><td> 53.59366</td><td>0</td></tr>\n",
       "\t<tr><td> 88.72656</td><td>40.67223</td><td> 0.60086608</td><td> 1.1234917</td><td>1.178930</td><td>11.46872</td><td>14.269573</td><td>252.56731</td><td>0</td></tr>\n",
       "\t<tr><td> 93.57031</td><td>46.69811</td><td> 0.53190485</td><td> 0.4167211</td><td>1.636288</td><td>14.54507</td><td>10.621748</td><td>131.39400</td><td>0</td></tr>\n",
       "</tbody>\n",
       "</table>\n"
      ],
      "text/latex": [
       "A tibble: 6 × 9\n",
       "\\begin{tabular}{lllllllll}\n",
       " mean\\_pf & sd\\_pf & exkurtosis\\_pf & skewness\\_pf & mean\\_DM & sd\\_DM & exkurtosis\\_DM & skewness\\_DM & class\\\\\n",
       " <dbl> & <dbl> & <dbl> & <dbl> & <dbl> & <dbl> & <dbl> & <dbl> & <fct>\\\\\n",
       "\\hline\n",
       "\t 140.56250 & 55.68378 & -0.23457141 & -0.6996484 & 3.199833 & 19.11043 &  7.975532 &  74.24222 & 0\\\\\n",
       "\t 102.50781 & 58.88243 &  0.46531815 & -0.5150879 & 1.677258 & 14.86015 & 10.576487 & 127.39358 & 0\\\\\n",
       "\t 103.01562 & 39.34165 &  0.32332837 &  1.0511644 & 3.121237 & 21.74467 &  7.735822 &  63.17191 & 0\\\\\n",
       "\t 136.75000 & 57.17845 & -0.06841464 & -0.6362384 & 3.642977 & 20.95928 &  6.896499 &  53.59366 & 0\\\\\n",
       "\t  88.72656 & 40.67223 &  0.60086608 &  1.1234917 & 1.178930 & 11.46872 & 14.269573 & 252.56731 & 0\\\\\n",
       "\t  93.57031 & 46.69811 &  0.53190485 &  0.4167211 & 1.636288 & 14.54507 & 10.621748 & 131.39400 & 0\\\\\n",
       "\\end{tabular}\n"
      ],
      "text/markdown": [
       "\n",
       "A tibble: 6 × 9\n",
       "\n",
       "| mean_pf &lt;dbl&gt; | sd_pf &lt;dbl&gt; | exkurtosis_pf &lt;dbl&gt; | skewness_pf &lt;dbl&gt; | mean_DM &lt;dbl&gt; | sd_DM &lt;dbl&gt; | exkurtosis_DM &lt;dbl&gt; | skewness_DM &lt;dbl&gt; | class &lt;fct&gt; |\n",
       "|---|---|---|---|---|---|---|---|---|\n",
       "| 140.56250 | 55.68378 | -0.23457141 | -0.6996484 | 3.199833 | 19.11043 |  7.975532 |  74.24222 | 0 |\n",
       "| 102.50781 | 58.88243 |  0.46531815 | -0.5150879 | 1.677258 | 14.86015 | 10.576487 | 127.39358 | 0 |\n",
       "| 103.01562 | 39.34165 |  0.32332837 |  1.0511644 | 3.121237 | 21.74467 |  7.735822 |  63.17191 | 0 |\n",
       "| 136.75000 | 57.17845 | -0.06841464 | -0.6362384 | 3.642977 | 20.95928 |  6.896499 |  53.59366 | 0 |\n",
       "|  88.72656 | 40.67223 |  0.60086608 |  1.1234917 | 1.178930 | 11.46872 | 14.269573 | 252.56731 | 0 |\n",
       "|  93.57031 | 46.69811 |  0.53190485 |  0.4167211 | 1.636288 | 14.54507 | 10.621748 | 131.39400 | 0 |\n",
       "\n"
      ],
      "text/plain": [
       "  mean_pf   sd_pf    exkurtosis_pf skewness_pf mean_DM  sd_DM    exkurtosis_DM\n",
       "1 140.56250 55.68378 -0.23457141   -0.6996484  3.199833 19.11043  7.975532    \n",
       "2 102.50781 58.88243  0.46531815   -0.5150879  1.677258 14.86015 10.576487    \n",
       "3 103.01562 39.34165  0.32332837    1.0511644  3.121237 21.74467  7.735822    \n",
       "4 136.75000 57.17845 -0.06841464   -0.6362384  3.642977 20.95928  6.896499    \n",
       "5  88.72656 40.67223  0.60086608    1.1234917  1.178930 11.46872 14.269573    \n",
       "6  93.57031 46.69811  0.53190485    0.4167211  1.636288 14.54507 10.621748    \n",
       "  skewness_DM class\n",
       "1  74.24222   0    \n",
       "2 127.39358   0    \n",
       "3  63.17191   0    \n",
       "4  53.59366   0    \n",
       "5 252.56731   0    \n",
       "6 131.39400   0    "
      ]
     },
     "metadata": {},
     "output_type": "display_data"
    }
   ],
   "source": [
    "HTRU<-read_csv(\"HTRU_2.csv\",col_names=FALSE)\n",
    "colnames(HTRU)=c(\"mean_pf\",\n",
    "                 \"sd_pf\",\n",
    "                 \"exkurtosis_pf\",\n",
    "                 \"skewness_pf\",\n",
    "                 \"mean_DM\",\n",
    "                 \"sd_DM\",\n",
    "                 \"exkurtosis_DM\",\n",
    "                 \"skewness_DM\",\n",
    "                 \"class\")\n",
    "HTRU<-HTRU|>\n",
    "    mutate(class=as_factor(class))\n",
    "head(HTRU)\n",
    "#By previewing the data, we can see the data is already tidy."
   ]
  },
  {
   "cell_type": "code",
   "execution_count": 49,
   "id": "82f43bd3-aeb0-463a-ab0f-2edf12cdf9d5",
   "metadata": {},
   "outputs": [],
   "source": [
    "HTRU_split <- initial_split(HTRU, prop = 0.75, strata = class)  \n",
    "HTRU_train <- training(HTRU_split)   \n",
    "HTRU_test <- testing(HTRU_split) #data spliting"
   ]
  },
  {
   "cell_type": "markdown",
   "id": "f94d0007-5e2b-438d-8f4b-cf5c1df2507f",
   "metadata": {},
   "source": [
    "Using only training data, summarize the data in at least one table (this is exploratory data analysis). An example of a useful table could be one that reports the number of observations in each class, the means of the predictor variables you plan to use in your analysis and how many rows have missing data. "
   ]
  },
  {
   "cell_type": "code",
   "execution_count": 30,
   "id": "21fa062b-b73e-44e8-8d64-e9f20b7323c3",
   "metadata": {},
   "outputs": [
    {
     "data": {
      "text/plain": [
       "\n",
       "    0     1 \n",
       "12180  1243 "
      ]
     },
     "metadata": {},
     "output_type": "display_data"
    }
   ],
   "source": [
    "observations<-table(HTRU_train$class)\n",
    "observations\n",
    "#The number of observations for each class."
   ]
  },
  {
   "cell_type": "code",
   "execution_count": 33,
   "id": "e26e552b-4bda-4b07-ae27-6cfa329952cb",
   "metadata": {},
   "outputs": [
    {
     "data": {
      "text/html": [
       "0"
      ],
      "text/latex": [
       "0"
      ],
      "text/markdown": [
       "0"
      ],
      "text/plain": [
       "[1] 0"
      ]
     },
     "metadata": {},
     "output_type": "display_data"
    }
   ],
   "source": [
    "rows_NA <- sum(!complete.cases(HTRU_train))\n",
    "rows_NA\n",
    "#There is no missing value in the dataset."
   ]
  },
  {
   "cell_type": "code",
   "execution_count": 35,
   "id": "b122016a-220e-4bb3-bea2-38880fd2d8f4",
   "metadata": {},
   "outputs": [
    {
     "data": {
      "text/plain": [
       "    mean_pf            sd_pf       exkurtosis_pf       skewness_pf     \n",
       " Min.   :  5.812   Min.   :24.79   Min.   :-1.73802   Min.   :-1.7919  \n",
       " 1st Qu.:100.742   1st Qu.:42.34   1st Qu.: 0.02656   1st Qu.:-0.1854  \n",
       " Median :115.008   Median :46.93   Median : 0.22441   Median : 0.2015  \n",
       " Mean   :110.987   Mean   :46.52   Mean   : 0.48177   Mean   : 1.7833  \n",
       " 3rd Qu.:127.035   3rd Qu.:50.96   3rd Qu.: 0.47816   3rd Qu.: 0.9515  \n",
       " Max.   :190.422   Max.   :98.78   Max.   : 8.06952   Max.   :68.1016  "
      ]
     },
     "metadata": {},
     "output_type": "display_data"
    }
   ],
   "source": [
    "summary(HTRU_train[c(\"mean_pf\",\"sd_pf\",\"exkurtosis_pf\",\"skewness_pf\")])\n",
    "#summary for each predictors"
   ]
  },
  {
   "cell_type": "markdown",
   "id": "6efc6fbb-ea59-4446-a6cc-08bde5b9a518",
   "metadata": {},
   "source": [
    "Using only training data, visualize the data with at least one plot relevant to the analysis you plan to do (this is exploratory data analysis). An example of a useful visualization could be one that compares the distributions of each of the predictor variables you plan to use in your analysis."
   ]
  },
  {
   "cell_type": "code",
   "execution_count": 54,
   "id": "daf12b22-83af-453c-b9d2-2d954a8a045a",
   "metadata": {},
   "outputs": [],
   "source": [
    "#choose predictors\n",
    "HTRU_visualization<-select(HTRU_train,mean_pf,sd_pf,exkurtosis_pf,skewness_pf,class)"
   ]
  },
  {
   "cell_type": "code",
   "execution_count": 51,
   "id": "f45f5101-9cdc-400b-bb30-72126da41111",
   "metadata": {},
   "outputs": [
    {
     "data": {
      "text/html": [
       "<table class=\"dataframe\">\n",
       "<caption>A tibble: 6 × 3</caption>\n",
       "<thead>\n",
       "\t<tr><th scope=col>class</th><th scope=col>vars</th><th scope=col>value</th></tr>\n",
       "\t<tr><th scope=col>&lt;fct&gt;</th><th scope=col>&lt;chr&gt;</th><th scope=col>&lt;dbl&gt;</th></tr>\n",
       "</thead>\n",
       "<tbody>\n",
       "\t<tr><td>0</td><td>mean_pf</td><td>102.50781</td></tr>\n",
       "\t<tr><td>0</td><td>mean_pf</td><td>103.01562</td></tr>\n",
       "\t<tr><td>0</td><td>mean_pf</td><td> 88.72656</td></tr>\n",
       "\t<tr><td>0</td><td>mean_pf</td><td> 93.57031</td></tr>\n",
       "\t<tr><td>0</td><td>mean_pf</td><td>119.48438</td></tr>\n",
       "\t<tr><td>0</td><td>mean_pf</td><td>130.38281</td></tr>\n",
       "</tbody>\n",
       "</table>\n"
      ],
      "text/latex": [
       "A tibble: 6 × 3\n",
       "\\begin{tabular}{lll}\n",
       " class & vars & value\\\\\n",
       " <fct> & <chr> & <dbl>\\\\\n",
       "\\hline\n",
       "\t 0 & mean\\_pf & 102.50781\\\\\n",
       "\t 0 & mean\\_pf & 103.01562\\\\\n",
       "\t 0 & mean\\_pf &  88.72656\\\\\n",
       "\t 0 & mean\\_pf &  93.57031\\\\\n",
       "\t 0 & mean\\_pf & 119.48438\\\\\n",
       "\t 0 & mean\\_pf & 130.38281\\\\\n",
       "\\end{tabular}\n"
      ],
      "text/markdown": [
       "\n",
       "A tibble: 6 × 3\n",
       "\n",
       "| class &lt;fct&gt; | vars &lt;chr&gt; | value &lt;dbl&gt; |\n",
       "|---|---|---|\n",
       "| 0 | mean_pf | 102.50781 |\n",
       "| 0 | mean_pf | 103.01562 |\n",
       "| 0 | mean_pf |  88.72656 |\n",
       "| 0 | mean_pf |  93.57031 |\n",
       "| 0 | mean_pf | 119.48438 |\n",
       "| 0 | mean_pf | 130.38281 |\n",
       "\n"
      ],
      "text/plain": [
       "  class vars    value    \n",
       "1 0     mean_pf 102.50781\n",
       "2 0     mean_pf 103.01562\n",
       "3 0     mean_pf  88.72656\n",
       "4 0     mean_pf  93.57031\n",
       "5 0     mean_pf 119.48438\n",
       "6 0     mean_pf 130.38281"
      ]
     },
     "metadata": {},
     "output_type": "display_data"
    }
   ],
   "source": [
    "HTRU_long <- gather(HTRU_visualization, key = \"vars\", value = \"value\",-class)\n",
    "head(HTRU_long)"
   ]
  },
  {
   "cell_type": "code",
   "execution_count": 78,
   "id": "28365020-84bc-4f47-9236-272ceb7a0881",
   "metadata": {},
   "outputs": [
    {
     "name": "stderr",
     "output_type": "stream",
     "text": [
      "`stat_bin()` using `bins = 30`. Pick better value with `binwidth`.\n",
      "\n"
     ]
    },
    {
     "data": {
      "image/png": "[encoded data removed]",
      "text/plain": [
       "plot without title"
      ]
     },
     "metadata": {
      "image/png": {
       "height": 900,
       "width": 900
      }
     },
     "output_type": "display_data"
    }
   ],
   "source": [
    "#visualization variables by class profile.\n",
    "options(repr.plot.width = 15, repr.plot.height = 15)\n",
    "HTRU_plot<-ggplot(HTRU_long,aes(x=value,fill=class))+\n",
    "    geom_histogram()+\n",
    "    facet_wrap(~ vars, scales = \"free\") +\n",
    "    xlab(\"value\")+\n",
    "    ylab(\"Frequency\")+\n",
    "    theme(text = element_text(size = 30))+\n",
    "    theme_minimal()\n",
    "HTRU_plot"
   ]
  },
  {
   "cell_type": "markdown",
   "id": "8f0e2af5-508a-44d5-bc1a-bc90c78def4f",
   "metadata": {},
   "source": [
    "# Methods"
   ]
  },
  {
   "cell_type": "markdown",
   "id": "c8ac053a-c177-42c4-9c63-72e05372d148",
   "metadata": {},
   "source": [
    "All eight predictor variables in the data set are associated with predictions. However, since the first four first four are simple statistics obtained from comprehensive pulse profiles (folded profiles), they are more in line with the meaning of the project.\n",
    "\n",
    "One way to visualize the results is to create scatter plot matrices or paired plots using the ggplot2 package. The plot will show the pair relationship between the predictors of each type (true pulsar and pseudo pulsar) and their distributions. It can help identify any patterns, correlations, or differences in the distribution between classes. It helps us to tell the real from the fake."
   ]
  },
  {
   "cell_type": "code",
   "execution_count": 58,
   "id": "c5eb3ba6-14dc-4a98-965f-ab8ce7b7ebba",
   "metadata": {},
   "outputs": [
    {
     "data": {
      "text/plain": [
       "Recipe\n",
       "\n",
       "Inputs:\n",
       "\n",
       "      role #variables\n",
       "   outcome          1\n",
       " predictor          4\n",
       "\n",
       "Operations:\n",
       "\n",
       "Scaling for mean_pf, sd_pf, exkurtosis_pf, skewness_pf\n",
       "Centering for mean_pf, sd_pf, exkurtosis_pf, skewness_pf"
      ]
     },
     "metadata": {},
     "output_type": "display_data"
    }
   ],
   "source": [
    "#recipe\n",
    "HTRU_recipe <- recipe(class ~ mean_pf + sd_pf+ exkurtosis_pf + skewness_pf , data = HTRU_train) |>\n",
    "    step_scale(mean_pf,sd_pf,exkurtosis_pf,skewness_pf) |>\n",
    "    step_center(mean_pf,sd_pf,exkurtosis_pf,skewness_pf)\n",
    "HTRU_recipe"
   ]
  },
  {
   "cell_type": "code",
   "execution_count": 59,
   "id": "47ea2cd0-28d9-4ebc-8dd8-04fd61a0bd48",
   "metadata": {},
   "outputs": [
    {
     "data": {
      "text/plain": [
       "K-Nearest Neighbor Model Specification (classification)\n",
       "\n",
       "Main Arguments:\n",
       "  neighbors = tune()\n",
       "  weight_func = rectangular\n",
       "\n",
       "Computational engine: kknn \n"
      ]
     },
     "metadata": {},
     "output_type": "display_data"
    }
   ],
   "source": [
    "#model\n",
    "knn_tune<-nearest_neighbor(weight_func=\"rectangular\", neighbors=tune())|>\n",
    "    set_engine(\"kknn\")|>\n",
    "    set_mode(\"classification\")\n",
    "knn_tune"
   ]
  },
  {
   "cell_type": "code",
   "execution_count": 65,
   "id": "c9ec9231-eb2f-48c7-9bbe-2b042a877708",
   "metadata": {},
   "outputs": [
    {
     "data": {
      "text/html": [
       "<table class=\"dataframe\">\n",
       "<caption>A tibble: 14 × 7</caption>\n",
       "<thead>\n",
       "\t<tr><th scope=col>neighbors</th><th scope=col>.metric</th><th scope=col>.estimator</th><th scope=col>mean</th><th scope=col>n</th><th scope=col>std_err</th><th scope=col>.config</th></tr>\n",
       "\t<tr><th scope=col>&lt;int&gt;</th><th scope=col>&lt;chr&gt;</th><th scope=col>&lt;chr&gt;</th><th scope=col>&lt;dbl&gt;</th><th scope=col>&lt;int&gt;</th><th scope=col>&lt;dbl&gt;</th><th scope=col>&lt;chr&gt;</th></tr>\n",
       "</thead>\n",
       "<tbody>\n",
       "\t<tr><td> 2</td><td>accuracy</td><td>binary</td><td>0.9653578</td><td>10</td><td>0.0014237152</td><td>Preprocessor1_Model1</td></tr>\n",
       "\t<tr><td> 2</td><td>roc_auc </td><td>binary</td><td>0.9222442</td><td>10</td><td>0.0055188169</td><td>Preprocessor1_Model1</td></tr>\n",
       "\t<tr><td> 3</td><td>accuracy</td><td>binary</td><td>0.9765328</td><td>10</td><td>0.0011608956</td><td>Preprocessor1_Model2</td></tr>\n",
       "\t<tr><td> 3</td><td>roc_auc </td><td>binary</td><td>0.9325912</td><td>10</td><td>0.0062136390</td><td>Preprocessor1_Model2</td></tr>\n",
       "\t<tr><td> 5</td><td>accuracy</td><td>binary</td><td>0.9778739</td><td>10</td><td>0.0008816267</td><td>Preprocessor1_Model3</td></tr>\n",
       "\t<tr><td> 5</td><td>roc_auc </td><td>binary</td><td>0.9379418</td><td>10</td><td>0.0057886910</td><td>Preprocessor1_Model3</td></tr>\n",
       "\t<tr><td> 8</td><td>accuracy</td><td>binary</td><td>0.9782464</td><td>10</td><td>0.0010163530</td><td>Preprocessor1_Model4</td></tr>\n",
       "\t<tr><td> 8</td><td>roc_auc </td><td>binary</td><td>0.9433429</td><td>10</td><td>0.0060522032</td><td>Preprocessor1_Model4</td></tr>\n",
       "\t<tr><td>11</td><td>accuracy</td><td>binary</td><td>0.9791404</td><td>10</td><td>0.0009991425</td><td>Preprocessor1_Model5</td></tr>\n",
       "\t<tr><td>11</td><td>roc_auc </td><td>binary</td><td>0.9460341</td><td>10</td><td>0.0063335944</td><td>Preprocessor1_Model5</td></tr>\n",
       "\t<tr><td>12</td><td>accuracy</td><td>binary</td><td>0.9791404</td><td>10</td><td>0.0009991425</td><td>Preprocessor1_Model6</td></tr>\n",
       "\t<tr><td>12</td><td>roc_auc </td><td>binary</td><td>0.9469836</td><td>10</td><td>0.0067175102</td><td>Preprocessor1_Model6</td></tr>\n",
       "\t<tr><td>15</td><td>accuracy</td><td>binary</td><td>0.9792148</td><td>10</td><td>0.0010849108</td><td>Preprocessor1_Model7</td></tr>\n",
       "\t<tr><td>15</td><td>roc_auc </td><td>binary</td><td>0.9511614</td><td>10</td><td>0.0059259165</td><td>Preprocessor1_Model7</td></tr>\n",
       "</tbody>\n",
       "</table>\n"
      ],
      "text/latex": [
       "A tibble: 14 × 7\n",
       "\\begin{tabular}{lllllll}\n",
       " neighbors & .metric & .estimator & mean & n & std\\_err & .config\\\\\n",
       " <int> & <chr> & <chr> & <dbl> & <int> & <dbl> & <chr>\\\\\n",
       "\\hline\n",
       "\t  2 & accuracy & binary & 0.9653578 & 10 & 0.0014237152 & Preprocessor1\\_Model1\\\\\n",
       "\t  2 & roc\\_auc  & binary & 0.9222442 & 10 & 0.0055188169 & Preprocessor1\\_Model1\\\\\n",
       "\t  3 & accuracy & binary & 0.9765328 & 10 & 0.0011608956 & Preprocessor1\\_Model2\\\\\n",
       "\t  3 & roc\\_auc  & binary & 0.9325912 & 10 & 0.0062136390 & Preprocessor1\\_Model2\\\\\n",
       "\t  5 & accuracy & binary & 0.9778739 & 10 & 0.0008816267 & Preprocessor1\\_Model3\\\\\n",
       "\t  5 & roc\\_auc  & binary & 0.9379418 & 10 & 0.0057886910 & Preprocessor1\\_Model3\\\\\n",
       "\t  8 & accuracy & binary & 0.9782464 & 10 & 0.0010163530 & Preprocessor1\\_Model4\\\\\n",
       "\t  8 & roc\\_auc  & binary & 0.9433429 & 10 & 0.0060522032 & Preprocessor1\\_Model4\\\\\n",
       "\t 11 & accuracy & binary & 0.9791404 & 10 & 0.0009991425 & Preprocessor1\\_Model5\\\\\n",
       "\t 11 & roc\\_auc  & binary & 0.9460341 & 10 & 0.0063335944 & Preprocessor1\\_Model5\\\\\n",
       "\t 12 & accuracy & binary & 0.9791404 & 10 & 0.0009991425 & Preprocessor1\\_Model6\\\\\n",
       "\t 12 & roc\\_auc  & binary & 0.9469836 & 10 & 0.0067175102 & Preprocessor1\\_Model6\\\\\n",
       "\t 15 & accuracy & binary & 0.9792148 & 10 & 0.0010849108 & Preprocessor1\\_Model7\\\\\n",
       "\t 15 & roc\\_auc  & binary & 0.9511614 & 10 & 0.0059259165 & Preprocessor1\\_Model7\\\\\n",
       "\\end{tabular}\n"
      ],
      "text/markdown": [
       "\n",
       "A tibble: 14 × 7\n",
       "\n",
       "| neighbors &lt;int&gt; | .metric &lt;chr&gt; | .estimator &lt;chr&gt; | mean &lt;dbl&gt; | n &lt;int&gt; | std_err &lt;dbl&gt; | .config &lt;chr&gt; |\n",
       "|---|---|---|---|---|---|---|\n",
       "|  2 | accuracy | binary | 0.9653578 | 10 | 0.0014237152 | Preprocessor1_Model1 |\n",
       "|  2 | roc_auc  | binary | 0.9222442 | 10 | 0.0055188169 | Preprocessor1_Model1 |\n",
       "|  3 | accuracy | binary | 0.9765328 | 10 | 0.0011608956 | Preprocessor1_Model2 |\n",
       "|  3 | roc_auc  | binary | 0.9325912 | 10 | 0.0062136390 | Preprocessor1_Model2 |\n",
       "|  5 | accuracy | binary | 0.9778739 | 10 | 0.0008816267 | Preprocessor1_Model3 |\n",
       "|  5 | roc_auc  | binary | 0.9379418 | 10 | 0.0057886910 | Preprocessor1_Model3 |\n",
       "|  8 | accuracy | binary | 0.9782464 | 10 | 0.0010163530 | Preprocessor1_Model4 |\n",
       "|  8 | roc_auc  | binary | 0.9433429 | 10 | 0.0060522032 | Preprocessor1_Model4 |\n",
       "| 11 | accuracy | binary | 0.9791404 | 10 | 0.0009991425 | Preprocessor1_Model5 |\n",
       "| 11 | roc_auc  | binary | 0.9460341 | 10 | 0.0063335944 | Preprocessor1_Model5 |\n",
       "| 12 | accuracy | binary | 0.9791404 | 10 | 0.0009991425 | Preprocessor1_Model6 |\n",
       "| 12 | roc_auc  | binary | 0.9469836 | 10 | 0.0067175102 | Preprocessor1_Model6 |\n",
       "| 15 | accuracy | binary | 0.9792148 | 10 | 0.0010849108 | Preprocessor1_Model7 |\n",
       "| 15 | roc_auc  | binary | 0.9511614 | 10 | 0.0059259165 | Preprocessor1_Model7 |\n",
       "\n"
      ],
      "text/plain": [
       "   neighbors .metric  .estimator mean      n  std_err      .config             \n",
       "1   2        accuracy binary     0.9653578 10 0.0014237152 Preprocessor1_Model1\n",
       "2   2        roc_auc  binary     0.9222442 10 0.0055188169 Preprocessor1_Model1\n",
       "3   3        accuracy binary     0.9765328 10 0.0011608956 Preprocessor1_Model2\n",
       "4   3        roc_auc  binary     0.9325912 10 0.0062136390 Preprocessor1_Model2\n",
       "5   5        accuracy binary     0.9778739 10 0.0008816267 Preprocessor1_Model3\n",
       "6   5        roc_auc  binary     0.9379418 10 0.0057886910 Preprocessor1_Model3\n",
       "7   8        accuracy binary     0.9782464 10 0.0010163530 Preprocessor1_Model4\n",
       "8   8        roc_auc  binary     0.9433429 10 0.0060522032 Preprocessor1_Model4\n",
       "9  11        accuracy binary     0.9791404 10 0.0009991425 Preprocessor1_Model5\n",
       "10 11        roc_auc  binary     0.9460341 10 0.0063335944 Preprocessor1_Model5\n",
       "11 12        accuracy binary     0.9791404 10 0.0009991425 Preprocessor1_Model6\n",
       "12 12        roc_auc  binary     0.9469836 10 0.0067175102 Preprocessor1_Model6\n",
       "13 15        accuracy binary     0.9792148 10 0.0010849108 Preprocessor1_Model7\n",
       "14 15        roc_auc  binary     0.9511614 10 0.0059259165 Preprocessor1_Model7"
      ]
     },
     "metadata": {},
     "output_type": "display_data"
    }
   ],
   "source": [
    "HTRU_vfold <- vfold_cv(HTRU_train, v = 10, strata = class)\n",
    "HTRU_results <- workflow() |>\n",
    "       add_recipe(HTRU_recipe) |>\n",
    "       add_model(knn_tune) |>\n",
    "       tune_grid(resamples = HTRU_vfold, grid = 10) |>\n",
    "       collect_metrics()\n",
    "HTRU_results"
   ]
  },
  {
   "cell_type": "code",
   "execution_count": 79,
   "id": "e74c2b36-68ed-4435-b69a-68e2d73f8ee8",
   "metadata": {},
   "outputs": [
    {
     "data": {
      "image/png": "[encoded data removed]",
      "text/plain": [
       "plot without title"
      ]
     },
     "metadata": {
      "image/png": {
       "height": 300,
       "width": 480
      }
     },
     "output_type": "display_data"
    }
   ],
   "source": [
    "options(repr.plot.width = 8, repr.plot.height = 5)\n",
    "accuracy<-HTRU_results|>\n",
    "    filter(.metric==\"accuracy\")\n",
    "accuracy_plot<-ggplot(accuracy,aes(x=neighbors,y=mean))+\n",
    "  geom_point() +\n",
    "  geom_line() +\n",
    "  labs(x = \"Neighbors\", y = \"Accuracy Estimate\") + \n",
    "  theme(text = element_text(size = 15))\n",
    "accuracy_plot\n",
    "#Plot the accuray for different K neighbors"
   ]
  },
  {
   "cell_type": "code",
   "execution_count": 82,
   "id": "5b4ce81e-d96b-4ef9-a3b0-8124358258aa",
   "metadata": {},
   "outputs": [
    {
     "data": {
      "text/html": [
       "15"
      ],
      "text/latex": [
       "15"
      ],
      "text/markdown": [
       "15"
      ],
      "text/plain": [
       "[1] 15"
      ]
     },
     "metadata": {},
     "output_type": "display_data"
    }
   ],
   "source": [
    "K_min <- accuracy |>\n",
    "    arrange(desc(mean)) |> \n",
    "    slice(1)|>\n",
    "    pull(neighbors)\n",
    "K_min\n",
    "#So we know K=15 gives us most accuracy."
   ]
  },
  {
   "cell_type": "code",
   "execution_count": 87,
   "id": "6d3f05c6-bf16-47d1-bcb2-dd974cd29031",
   "metadata": {},
   "outputs": [
    {
     "data": {
      "text/html": [
       "<table class=\"dataframe\">\n",
       "<caption>A tibble: 2 × 3</caption>\n",
       "<thead>\n",
       "\t<tr><th scope=col>.metric</th><th scope=col>.estimator</th><th scope=col>.estimate</th></tr>\n",
       "\t<tr><th scope=col>&lt;chr&gt;</th><th scope=col>&lt;chr&gt;</th><th scope=col>&lt;dbl&gt;</th></tr>\n",
       "</thead>\n",
       "<tbody>\n",
       "\t<tr><td>accuracy</td><td>binary</td><td>0.9754190</td></tr>\n",
       "\t<tr><td>kap     </td><td>binary</td><td>0.8466468</td></tr>\n",
       "</tbody>\n",
       "</table>\n"
      ],
      "text/latex": [
       "A tibble: 2 × 3\n",
       "\\begin{tabular}{lll}\n",
       " .metric & .estimator & .estimate\\\\\n",
       " <chr> & <chr> & <dbl>\\\\\n",
       "\\hline\n",
       "\t accuracy & binary & 0.9754190\\\\\n",
       "\t kap      & binary & 0.8466468\\\\\n",
       "\\end{tabular}\n"
      ],
      "text/markdown": [
       "\n",
       "A tibble: 2 × 3\n",
       "\n",
       "| .metric &lt;chr&gt; | .estimator &lt;chr&gt; | .estimate &lt;dbl&gt; |\n",
       "|---|---|---|\n",
       "| accuracy | binary | 0.9754190 |\n",
       "| kap      | binary | 0.8466468 |\n",
       "\n"
      ],
      "text/plain": [
       "  .metric  .estimator .estimate\n",
       "1 accuracy binary     0.9754190\n",
       "2 kap      binary     0.8466468"
      ]
     },
     "metadata": {},
     "output_type": "display_data"
    }
   ],
   "source": [
    "HTRU_best_spec<-nearest_neighbor(weight_func=\"rectangular\", neighbors=K_min)|>\n",
    "    set_engine(\"kknn\")|>\n",
    "    set_mode(\"classification\")\n",
    "\n",
    "HTRU_fit<-workflow()|>\n",
    "    add_recipe(HTRU_recipe)|>\n",
    "    add_model(HTRU_best_spec)|>\n",
    "    fit(data=HTRU_train)\n",
    "\n",
    "HTRU_summary <- HTRU_fit |>\n",
    "           predict(HTRU_test) |>\n",
    "           bind_cols(HTRU_test)|>\n",
    "           metrics(truth=class,estimate=.pred_class)\n",
    "HTRU_summary   "
   ]
  },
  {
   "cell_type": "markdown",
   "id": "84981dc9-bba9-4503-83e4-e22b15a38260",
   "metadata": {},
   "source": [
    "From the table, we can see our model provides a high accuracy(97.5%) for prediction."
   ]
  },
  {
   "cell_type": "markdown",
   "id": "7fc4e592-6987-4e4b-8e55-7aafe24e4161",
   "metadata": {},
   "source": [
    "Now let's predict the data provided by question"
   ]
  },
  {
   "cell_type": "code",
   "execution_count": 106,
   "id": "86f74d5a-d9ce-402c-8217-7cfef0128ef0",
   "metadata": {},
   "outputs": [
    {
     "data": {
      "text/html": [
       "<table class=\"dataframe\">\n",
       "<caption>A tibble: 4 × 5</caption>\n",
       "<thead>\n",
       "\t<tr><th scope=col>.pred_class</th><th scope=col>mean_pf</th><th scope=col>sd_pf</th><th scope=col>exkurtosis_pf</th><th scope=col>skewness_pf</th></tr>\n",
       "\t<tr><th scope=col>&lt;fct&gt;</th><th scope=col>&lt;dbl&gt;</th><th scope=col>&lt;dbl&gt;</th><th scope=col>&lt;dbl&gt;</th><th scope=col>&lt;dbl&gt;</th></tr>\n",
       "</thead>\n",
       "<tbody>\n",
       "\t<tr><td>0</td><td>135.34231</td><td>43.51234</td><td>1.2134304</td><td>-0.4135212</td></tr>\n",
       "\t<tr><td>0</td><td>152.21314</td><td>52.97100</td><td>0.4312583</td><td>26.5231516</td></tr>\n",
       "\t<tr><td>1</td><td> 19.02311</td><td>28.90231</td><td>6.0213412</td><td>43.0453823</td></tr>\n",
       "\t<tr><td>0</td><td> 30.31236</td><td>30.23142</td><td>1.8232130</td><td>-0.1245083</td></tr>\n",
       "</tbody>\n",
       "</table>\n"
      ],
      "text/latex": [
       "A tibble: 4 × 5\n",
       "\\begin{tabular}{lllll}\n",
       " .pred\\_class & mean\\_pf & sd\\_pf & exkurtosis\\_pf & skewness\\_pf\\\\\n",
       " <fct> & <dbl> & <dbl> & <dbl> & <dbl>\\\\\n",
       "\\hline\n",
       "\t 0 & 135.34231 & 43.51234 & 1.2134304 & -0.4135212\\\\\n",
       "\t 0 & 152.21314 & 52.97100 & 0.4312583 & 26.5231516\\\\\n",
       "\t 1 &  19.02311 & 28.90231 & 6.0213412 & 43.0453823\\\\\n",
       "\t 0 &  30.31236 & 30.23142 & 1.8232130 & -0.1245083\\\\\n",
       "\\end{tabular}\n"
      ],
      "text/markdown": [
       "\n",
       "A tibble: 4 × 5\n",
       "\n",
       "| .pred_class &lt;fct&gt; | mean_pf &lt;dbl&gt; | sd_pf &lt;dbl&gt; | exkurtosis_pf &lt;dbl&gt; | skewness_pf &lt;dbl&gt; |\n",
       "|---|---|---|---|---|\n",
       "| 0 | 135.34231 | 43.51234 | 1.2134304 | -0.4135212 |\n",
       "| 0 | 152.21314 | 52.97100 | 0.4312583 | 26.5231516 |\n",
       "| 1 |  19.02311 | 28.90231 | 6.0213412 | 43.0453823 |\n",
       "| 0 |  30.31236 | 30.23142 | 1.8232130 | -0.1245083 |\n",
       "\n"
      ],
      "text/plain": [
       "  .pred_class mean_pf   sd_pf    exkurtosis_pf skewness_pf\n",
       "1 0           135.34231 43.51234 1.2134304     -0.4135212 \n",
       "2 0           152.21314 52.97100 0.4312583     26.5231516 \n",
       "3 1            19.02311 28.90231 6.0213412     43.0453823 \n",
       "4 0            30.31236 30.23142 1.8232130     -0.1245083 "
      ]
     },
     "metadata": {},
     "output_type": "display_data"
    }
   ],
   "source": [
    "HTRU_prediction<-HTRU_fit|>\n",
    "    predict(Problem_data)|>\n",
    "    bind_cols(Problem_data)\n",
    "HTRU_prediction"
   ]
  },
  {
   "cell_type": "markdown",
   "id": "6f33b46a-4e64-4e2f-a588-d483b9d48383",
   "metadata": {},
   "source": [
    "By our prediction, we can see only third observation of pulsar is qualified, which are classified as 1, but all remaining are not."
   ]
  },
  {
   "cell_type": "markdown",
   "id": "a2ad1fb5-b82d-44f2-9dff-ad236b58ad3a",
   "metadata": {},
   "source": [
    "### Expected outcomes and significance:"
   ]
  },
  {
   "cell_type": "markdown",
   "id": "dffbe4dd-8fa8-47b9-b438-b444f612962d",
   "metadata": {},
   "source": [
    "We expect to be able to easily distinguish between real and fake data by utilizing machine learning algorithms and providing data sets. The significance of accurately classifying pulsar data lies in its potential impact on accelerating large-scale pulsar investigation analysis. By automating the classification process, astronomers and researchers can focus on studying true pulsars, making more efficient use of telescope resources and improving our understanding of space-time, the interstellar medium, and the state of matter."
   ]
  },
  {
   "cell_type": "markdown",
   "id": "344b7ba9-eb62-4691-a90b-6d5888e624ae",
   "metadata": {},
   "source": [
    "Future questions\n",
    "* Can the classification model be strengthened to distinguish between different types of pulsars?\n",
    "* Can the classification model be applied to other celestial object detection datasets to verify its validity and universality?\n",
    "* Most of the data will be classified as 0, whether they can also provide some useful information?"
   ]
  }
 ],
 "metadata": {
  "kernelspec": {
   "display_name": "R",
   "language": "R",
   "name": "ir"
  },
  "language_info": {
   "codemirror_mode": "r",
   "file_extension": ".r",
   "mimetype": "text/x-r-source",
   "name": "R",
   "pygments_lexer": "r",
   "version": "4.1.3"
  }
 },
 "nbformat": 4,
 "nbformat_minor": 5
}
